{
 "cells": [
  {
   "attachments": {},
   "cell_type": "markdown",
   "metadata": {},
   "source": [
    "# Example Notebook\n",
    "\n",
    "This example notebook showcases how we can create interactive test scripts that we can sistematically use in MCS to debug or demo the system. This is a simple get_server_list() TANGO example.\n",
    "\n",
    "First, make sure the TANGO_HOST below is well defined (adjust KUBE_NAMESPACE):"
   ]
  },
  {
   "cell_type": "code",
   "execution_count": null,
   "metadata": {},
   "outputs": [],
   "source": [
    "import os\n",
    "\n",
    "from tango import Database\n",
    "\n",
    "CLUSTER_DOMAIN = \"techops.internal.skao.int\"\n",
    "DATABASE_DS = \"databaseds-tango-base\"\n",
    "\n",
    "KUBE_NAMESPACE = (\n",
    "    \"ci-ska-cbf-sys-tests-1028637542-mid\"  # Change this to your preference\n",
    ")\n",
    "\n",
    "TANGO_HOST = f\"{DATABASE_DS}.{KUBE_NAMESPACE}.svc.{CLUSTER_DOMAIN}:10000\"\n",
    "print(f\"Using TANGO_HOST: {TANGO_HOST}\")\n",
    "os.environ[\"TANGO_HOST\"] = TANGO_HOST"
   ]
  },
  {
   "attachments": {},
   "cell_type": "markdown",
   "metadata": {},
   "source": [
    "Now we can get database information and ping a device !"
   ]
  },
  {
   "cell_type": "code",
   "execution_count": null,
   "metadata": {},
   "outputs": [],
   "source": [
    "database_ds = Database()\n",
    "print(\"\\nDatabase info:\")\n",
    "print(database_ds.get_info())\n",
    "\n",
    "print(\"\\nServers:\")\n",
    "print(\"\\n\".join([server for server in database_ds.get_server_list()]))"
   ]
  },
  {
   "attachments": {},
   "cell_type": "markdown",
   "metadata": {},
   "source": [
    "That's all !"
   ]
  }
 ],
 "metadata": {
  "kernelspec": {
   "display_name": "ska-skampi-tests--S1M8z5A-py3.10",
   "language": "python",
   "name": "python3"
  },
  "language_info": {
   "codemirror_mode": {
    "name": "ipython",
    "version": 3
   },
   "file_extension": ".py",
   "mimetype": "text/x-python",
   "name": "python",
   "nbconvert_exporter": "python",
   "pygments_lexer": "ipython3",
   "version": "3.10.6"
  },
  "orig_nbformat": 4
 },
 "nbformat": 4,
 "nbformat_minor": 2
}
